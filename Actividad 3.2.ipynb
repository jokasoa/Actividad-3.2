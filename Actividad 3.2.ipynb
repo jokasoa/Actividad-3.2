{
 "cells": [
  {
   "cell_type": "code",
   "execution_count": null,
   "id": "0250f24a-e8e2-42f0-9f24-a1490c1d10d3",
   "metadata": {},
   "outputs": [],
   "source": [
    "# Construcción del Árbol Binario de Búsqueda (ABB)\n",
    "\n",
    "### Paso 1: Crear la función `crear_nodo(valor)`\n"
   ]
  },
  {
   "cell_type": "code",
   "execution_count": 18,
   "id": "b672b001-a931-4554-bb62-e3da2ab4f799",
   "metadata": {},
   "outputs": [],
   "source": [
    "def crear_nodo(valor):\n",
    "    return {\n",
    "        'valor': valor,\n",
    "        'izquierda': None,\n",
    "        'derecha': None\n",
    "    }\n"
   ]
  },
  {
   "cell_type": "code",
   "execution_count": 19,
   "id": "04784e6f-b084-4d0a-8c24-99e22e6d3117",
   "metadata": {},
   "outputs": [],
   "source": [
    "### Paso 2: Crear la función `insertar(raiz, valor)`\n"
   ]
  },
  {
   "cell_type": "code",
   "execution_count": 20,
   "id": "b4846424-626f-4be5-b697-eb6b22a89c5c",
   "metadata": {},
   "outputs": [],
   "source": [
    "def insertar(raiz, valor):\n",
    "    if raiz is None:\n",
    "        return crear_nodo(valor)\n",
    "    if valor < raiz['valor']:\n",
    "        raiz['izquierda'] = insertar(raiz['izquierda'], valor)\n",
    "    elif valor > raiz['valor']:\n",
    "        raiz['derecha'] = insertar(raiz['derecha'], valor)\n",
    "    return raiz\n"
   ]
  },
  {
   "cell_type": "code",
   "execution_count": 21,
   "id": "3df82e6c-d62d-4fd9-9b55-8a9226fc0072",
   "metadata": {},
   "outputs": [],
   "source": [
    "### Paso 3: Insertar los valores en el árbol ABB\n"
   ]
  },
  {
   "cell_type": "code",
   "execution_count": 22,
   "id": "3687eb64-9e73-4576-bc3b-d88f959bda2b",
   "metadata": {},
   "outputs": [],
   "source": [
    "valores = [40, 20, 60, 10, 30, 50, 70]\n",
    "raiz = None\n",
    "for valor in valores:\n",
    "    raiz = insertar(raiz, valor)\n"
   ]
  },
  {
   "cell_type": "code",
   "execution_count": 23,
   "id": "5946b68f-a56a-48b5-a0fb-b6fa0a470dfa",
   "metadata": {},
   "outputs": [],
   "source": [
    "### Función adicional: Recorrido en orden del árbol\n"
   ]
  },
  {
   "cell_type": "code",
   "execution_count": 24,
   "id": "6a64af2f-98f8-49a5-ad3c-d05e0f6821e6",
   "metadata": {},
   "outputs": [
    {
     "name": "stdout",
     "output_type": "stream",
     "text": [
      "10 20 30 40 50 60 70 "
     ]
    }
   ],
   "source": [
    "def imprimir_inorden(nodo):\n",
    "    if nodo is not None:\n",
    "        imprimir_inorden(nodo['izquierda'])\n",
    "        print(nodo['valor'], end=' ')\n",
    "        imprimir_inorden(nodo['derecha'])\n",
    "\n",
    "imprimir_inorden(raiz)\n"
   ]
  },
  {
   "cell_type": "code",
   "execution_count": 25,
   "id": "92f3cd2c-ee41-4f59-a825-86a6d60ab063",
   "metadata": {},
   "outputs": [],
   "source": [
    "# Parte 2: Recorridos del árbol\n"
   ]
  },
  {
   "cell_type": "code",
   "execution_count": 26,
   "id": "f6e9ba8e-9826-4056-8143-b4e1e93d308a",
   "metadata": {},
   "outputs": [
    {
     "name": "stdout",
     "output_type": "stream",
     "text": [
      "Recorrido inorden:\n",
      "10 20 30 40 50 60 70 \n"
     ]
    }
   ],
   "source": [
    "def recorrido_inorden(nodo):\n",
    "    if nodo is not None:\n",
    "        recorrido_inorden(nodo['izquierda'])\n",
    "        print(nodo['valor'], end=' ')\n",
    "        recorrido_inorden(nodo['derecha'])\n",
    "\n",
    "print(\"Recorrido inorden:\")\n",
    "recorrido_inorden(raiz)\n",
    "print()\n"
   ]
  },
  {
   "cell_type": "code",
   "execution_count": 27,
   "id": "1f2eef25-757a-49eb-8365-2f6f0da681f7",
   "metadata": {},
   "outputs": [
    {
     "name": "stdout",
     "output_type": "stream",
     "text": [
      "Recorrido preorden:\n",
      "40 20 10 30 60 50 70 \n"
     ]
    }
   ],
   "source": [
    "#Recorrido preorden\n",
    "def recorrido_preorden(nodo):\n",
    "    if nodo is not None:\n",
    "        print(nodo['valor'], end=' ')\n",
    "        recorrido_preorden(nodo['izquierda'])\n",
    "        recorrido_preorden(nodo['derecha'])\n",
    "\n",
    "print(\"Recorrido preorden:\")\n",
    "recorrido_preorden(raiz)\n",
    "print()\n"
   ]
  },
  {
   "cell_type": "code",
   "execution_count": 30,
   "id": "3f697bc4-8a29-4441-8e0d-274bab597e37",
   "metadata": {},
   "outputs": [
    {
     "name": "stdout",
     "output_type": "stream",
     "text": [
      "Nuevo recorrido inorden:\n",
      "5 10 20 25 30 40 50 60 65 70 \n",
      "Nuevo recorrido preorden:\n",
      "40 20 10 5 30 25 60 50 70 65 \n",
      "Nuevo recorrido postorden:\n"
     ]
    },
    {
     "ename": "NameError",
     "evalue": "name 'recorrido_postorden' is not defined",
     "output_type": "error",
     "traceback": [
      "\u001b[31m---------------------------------------------------------------------------\u001b[39m",
      "\u001b[31mNameError\u001b[39m                                 Traceback (most recent call last)",
      "\u001b[36mCell\u001b[39m\u001b[36m \u001b[39m\u001b[32mIn[30]\u001b[39m\u001b[32m, line 11\u001b[39m\n\u001b[32m      9\u001b[39m recorrido_preorden(raiz)\n\u001b[32m     10\u001b[39m \u001b[38;5;28mprint\u001b[39m(\u001b[33m\"\u001b[39m\u001b[38;5;130;01m\\n\u001b[39;00m\u001b[33mNuevo recorrido postorden:\u001b[39m\u001b[33m\"\u001b[39m)\n\u001b[32m---> \u001b[39m\u001b[32m11\u001b[39m \u001b[43mrecorrido_postorden\u001b[49m(raiz)\n",
      "\u001b[31mNameError\u001b[39m: name 'recorrido_postorden' is not defined"
     ]
    }
   ],
   "source": [
    "# Agregamos 3 nuevos valores\n",
    "nuevos_valores = [25, 65, 5]\n",
    "for valor in nuevos_valores:\n",
    "    raiz = insertar(raiz, valor)\n",
    "\n",
    "print(\"Nuevo recorrido inorden:\")\n",
    "recorrido_inorden(raiz)\n",
    "print(\"\\nNuevo recorrido preorden:\")\n",
    "recorrido_preorden(raiz)\n",
    "print(\"\\nNuevo recorrido postorden:\")\n",
    "recorrido_postorden(raiz)"
   ]
  },
  {
   "cell_type": "code",
   "execution_count": null,
   "id": "1bd65720-142b-4e1b-acd3-b366f983b5fa",
   "metadata": {},
   "outputs": [],
   "source": []
  }
 ],
 "metadata": {
  "kernelspec": {
   "display_name": "Python 3 (ipykernel)",
   "language": "python",
   "name": "python3"
  },
  "language_info": {
   "codemirror_mode": {
    "name": "ipython",
    "version": 3
   },
   "file_extension": ".py",
   "mimetype": "text/x-python",
   "name": "python",
   "nbconvert_exporter": "python",
   "pygments_lexer": "ipython3",
   "version": "3.13.4"
  }
 },
 "nbformat": 4,
 "nbformat_minor": 5
}
